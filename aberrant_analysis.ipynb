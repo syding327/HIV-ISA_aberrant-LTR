{
 "cells": [
  {
   "cell_type": "code",
   "execution_count": 1,
   "metadata": {},
   "outputs": [],
   "source": [
    "import pandas as pd\n",
    "import numpy as np"
   ]
  },
  {
   "cell_type": "code",
   "execution_count": null,
   "metadata": {},
   "outputs": [],
   "source": [
    "def reverse_compliment(seq):\n",
    "    translateTable = seq.maketrans(\"ATCG\", \"TAGC\")\n",
    "    output = seq.translate(translateTable)\n",
    "    output = output[::-1]\n",
    "    return(output)"
   ]
  },
  {
   "cell_type": "code",
   "execution_count": 2,
   "metadata": {},
   "outputs": [],
   "source": [
    "linker_head = 'AGTCCTCTAAG'\n",
    "actual_HIV = 'AGAGATCCCTCAGACCCTTTTAGTCAGTGTGGAAAATCTCTAGCA'\n",
    "n10 = 'TCTGGTAACT'"
   ]
  },
  {
   "cell_type": "code",
   "execution_count": 25,
   "metadata": {},
   "outputs": [
    {
     "name": "stdout",
     "output_type": "stream",
     "text": [
      "787991\n",
      "107531\n"
     ]
    }
   ],
   "source": [
    "# read from the file\n",
    "# remove all canonical entries (containing 'TCTCTAGCA\\t')\n",
    "# file = open(\"1TAGNGAGT2GCGCGAGA.txt\") # WT\n",
    "file = open(\"1TAGNGAGT2CTATCGCT.txt\") # G19S\n",
    "lines = []\n",
    "canonical = 0\n",
    "for line in file.readlines():\n",
    "    if 'TCTCTAGCA\\t' not in line:\n",
    "        lines.append(line)\n",
    "    else:\n",
    "        canonical += 1\n",
    "\n",
    "print('# aberrant LTR: ' + str(len(lines)))\n",
    "print('# canonical LTR: ' + str(canonical))"
   ]
  },
  {
   "cell_type": "code",
   "execution_count": 26,
   "metadata": {},
   "outputs": [],
   "source": [
    "# extracte the read 1 sequence from the spreadsheet\n",
    "reads = []\n",
    "for line in lines:\n",
    "    read = line.split('\\t')[2]\n",
    "    reads.append(read)"
   ]
  },
  {
   "cell_type": "code",
   "execution_count": 27,
   "metadata": {},
   "outputs": [
    {
     "name": "stdout",
     "output_type": "stream",
     "text": [
      "602529\n"
     ]
    }
   ],
   "source": [
    "# trim the (primer), n10, and linker\n",
    "trimmed_reads = []\n",
    "missing_n10_count = 0\n",
    "for idx, read in enumerate(reads):\n",
    "    if n10 in read:\n",
    "        read = (read.split(linker_head)[0]).split(n10)[1]\n",
    "        trimmed_reads.append(read)\n",
    "    else:\n",
    "        reads.pop(idx)\n",
    "        missing_n10_count += 1 # count incomplete n10\n",
    "\n",
    "print('# aberrant LTRs with n10: ' + str(len(trimmed_reads)))"
   ]
  },
  {
   "cell_type": "code",
   "execution_count": 28,
   "metadata": {},
   "outputs": [
    {
     "name": "stdout",
     "output_type": "stream",
     "text": [
      "103900\n"
     ]
    }
   ],
   "source": [
    "# base-by-base comparison with true HIV sequence\n",
    "aberrant = []\n",
    "for read in trimmed_reads:\n",
    "    human_start_pos = next((i for i, (char1, char2) in enumerate(zip(read, actual_HIV)) if char1 != char2), None)\n",
    "    if human_start_pos != None:\n",
    "        human = read[human_start_pos:]\n",
    "        aberrant.append(human)\n",
    "    # aberrant.append(human_start_pos)\n",
    "print(len(aberrant))\n",
    "#TO DO: "
   ]
  },
  {
   "cell_type": "code",
   "execution_count": 29,
   "metadata": {},
   "outputs": [
    {
     "data": {
      "text/plain": [
       "[('TTTCCACACTGACTAAAAGGGTCTGAGGGATCTCTAGT', 1222),\n",
       " ('TTTCCACACTGACTAAAAGGGTCTGAGGGATCTCTAG', 1194),\n",
       " ('TTTCCACACTGACTAAAAGGGTCTGAGGGATCTCTAGTTA', 751),\n",
       " ('TTTCCACACTGACTAAAAGGGTCTGAGGGATCTCTAGTTAC', 663),\n",
       " ('AATTTGGTAGTGTGGAAAATCTCTAGCAAAGGGCGAATTCTGCAGATATCCATCACACTGGCGGCCGCTCGAGCATGCATCTAG',\n",
       "  558),\n",
       " ('TTTCCACACTGACTAAAAGGGTCTGAGGGATCTCT', 548),\n",
       " ('TTTCCACACTGACTAAAAGGGTCTGAGGGATCTCTA', 547),\n",
       " ('ATAGCAG', 527),\n",
       " ('TTTCCACACTGACTAAAAGGGTCTGAGGGATCTCTAGTT', 474),\n",
       " ('TTTCCACACTGACTAAAAGGGTCTGAGGGATC', 462),\n",
       " ('A', 435),\n",
       " ('G', 422),\n",
       " ('TTTCCACACTGACTAAAAGGGTCTGAGGGATCTCTAGTTACCAGAG', 386),\n",
       " ('ATAGCAGT', 383),\n",
       " ('TTTCCACACTGACTAAAAGGGTCTGAGGGATCTCTAGTTACC', 340),\n",
       " ('TTTCCACACTGACTAAAAGGGTCTGAGGGATCTCTAGTTACCA', 300),\n",
       " ('AATTTGGTAGTGTGGAAAATC', 264),\n",
       " ('TTTCCACACTGACTAAAAGGGTCTGAGGGATCTCTAGTTACCAGAGTC', 260),\n",
       " ('TTTCCACACTGACTAAAAGGGTCTGAGGGATCTCTAGTTACCAGA', 250),\n",
       " ('TTTCCACACTGACTAAAAGGGTCTGAGGGATCTCTAGTTACCAG', 246)]"
      ]
     },
     "execution_count": 29,
     "metadata": {},
     "output_type": "execute_result"
    }
   ],
   "source": [
    "from collections import Counter \n",
    "\n",
    "aberrrant_occur = Counter(aberrant)\n",
    "aberrrant_occur.most_common(20)"
   ]
  },
  {
   "cell_type": "code",
   "execution_count": 16,
   "metadata": {},
   "outputs": [],
   "source": [
    "file_new = open('aberrant_LTR_01_all.fa', 'w')\n",
    "# file_new = open('aberrant_LTR_02_all.fa', 'w')\n",
    "c = 0\n",
    "for x in aberrant:\n",
    "\tfile_new.write('>seq_' + str(c) + '\\n')\n",
    "\tfile_new.write(str(x) + '\\n')\n",
    "\tc += 1\n",
    "file_new.close()"
   ]
  },
  {
   "cell_type": "code",
   "execution_count": 30,
   "metadata": {},
   "outputs": [],
   "source": [
    "file_new = open('aberrant_LTR_01_unique.fa', 'w')\n",
    "# file_new = open('aberrant_LTR_02_unique.fa', 'w')\n",
    "c = 0\n",
    "for x in list(aberrrant_occur.keys()): # TODO: sort\n",
    "\tfile_new.write('>seq_' + str(c) + '\\n') # TODO: add count\n",
    "\tfile_new.write(str(x) + '\\n')\n",
    "\tc += 1\n",
    "file_new.close()"
   ]
  }
 ],
 "metadata": {
  "kernelspec": {
   "display_name": "general",
   "language": "python",
   "name": "python3"
  },
  "language_info": {
   "codemirror_mode": {
    "name": "ipython",
    "version": 3
   },
   "file_extension": ".py",
   "mimetype": "text/x-python",
   "name": "python",
   "nbconvert_exporter": "python",
   "pygments_lexer": "ipython3",
   "version": "3.11.5"
  }
 },
 "nbformat": 4,
 "nbformat_minor": 2
}
